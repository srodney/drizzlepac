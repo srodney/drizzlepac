{
 "cells": [
  {
   "cell_type": "code",
   "execution_count": 2,
   "metadata": {},
   "outputs": [
    {
     "name": "stdout",
     "output_type": "stream",
     "text": [
      "The following tasks in the drizzlepac package can be run with TEAL:\n",
      "    astrodrizzle       config_testbed      imagefindpars           mapreg       \n",
      "       photeq            pixreplace           pixtopix            pixtosky      \n",
      "  refimagefindpars       resetbits          runastrodriz          skytopix      \n",
      "     tweakback            tweakreg           updatenpol\n"
     ]
    }
   ],
   "source": [
    "from astropy.io import fits\n",
    "from stwcs import wcsutil\n",
    "import urllib.request\n",
    "import os\n",
    "from drizzlepac import astrodrizzle"
   ]
  },
  {
   "cell_type": "code",
   "execution_count": 3,
   "metadata": {},
   "outputs": [
    {
     "name": "stdout",
     "output_type": "stream",
     "text": [
      "Setting up logfile :  astrodrizzle.log\n",
      "AstroDrizzle Version 3.1.4.dev28+gc5545233 (2020-02-12 16:20:52 -0500) started at: 20:34:36.411 (18/02/2020)\n",
      "\n",
      "==== Processing Step  Initialization  started at  20:34:36.416 (18/02/2020)\n",
      "\n",
      "WCS Keywords\n",
      "\n",
      "Number of WCS axes: 2\n",
      "CTYPE : 'RA---TAN'  'DEC--TAN'  \n",
      "CRVAL : 189.16516162544605  62.312204596915144  \n",
      "CRPIX : 545.0  480.0  \n",
      "CD1_1 CD1_2  : 3.8331986182137346e-11  3.562500079470796e-05  \n",
      "CD2_1 CD2_2  : 3.562500079470796e-05  -3.8331986182137346e-11  \n",
      "NAXIS : 1090  960\n",
      "********************************************************************************\n",
      "*\n",
      "*  Estimated memory usage:  up to 39 Mb.\n",
      "*  Output image size:       1090 X 960 pixels. \n",
      "*  Output image file:       ~ 11 Mb. \n",
      "*  Cores available:         2\n",
      "*\n",
      "********************************************************************************\n",
      "==== Processing Step Initialization finished at 20:34:36.942 (18/02/2020)\n",
      "==== Processing Step  Static Mask  started at  20:34:36.949 (18/02/2020)\n",
      "\n",
      "==== Processing Step Static Mask finished at 20:34:37.071 (18/02/2020)\n",
      "==== Processing Step  Subtract Sky  started at  20:34:37.073 (18/02/2020)\n",
      "\n",
      "***** skymatch started on 2020-02-18 20:34:37.161538\n",
      "      Version 1.0.4 (2019-05-30 14:31:23 -0400)\n",
      "\n",
      "'skymatch' task will apply computed sky differences to input image file(s).\n",
      "\n",
      "NOTE: Computed sky values WILL NOT be subtracted from image data ('subtractsky'=False).\n",
      "'MDRIZSKY' header keyword will represent sky value *computed* from data.\n",
      "\n",
      "-----  User specified keywords:  -----\n",
      "       Sky Value Keyword:  'MDRIZSKY'\n",
      "       Data Units Keyword: 'BUNIT'\n",
      "\n",
      "\n",
      "-----  Input file list:  -----\n",
      "\n",
      "   **  Input image: 'ibtm7mlgq_flt.fits'\n",
      "       EXT: 'SCI',1;\tMASK: ibtm7mlgq_skymatch_mask_sci1.fits[0]\n",
      "\n",
      "   **  Input image: 'ibtm7mldq_flt.fits'\n",
      "       EXT: 'SCI',1;\tMASK: ibtm7mldq_skymatch_mask_sci1.fits[0]\n",
      "\n",
      "-----  Sky statistics parameters:  -----\n",
      "       statistics function: 'median'\n",
      "       lower = None\n",
      "       upper = None\n",
      "       nclip = 5\n",
      "       lsigma = 4.0\n",
      "       usigma = 4.0\n",
      "       binwidth = 0.1\n",
      "\n",
      "-----  Data->Brightness conversion parameters for input files:  -----\n",
      "\n",
      "   *   Image: ibtm7mlgq_flt.fits\n",
      "       EXT = 'SCI',1\n",
      "             Data units type: COUNT-RATE\n",
      "             Conversion factor (data->brightness):  60.797431635711504\n",
      "\n",
      "   *   Image: ibtm7mldq_flt.fits\n",
      "       EXT = 'SCI',1\n",
      "             Data units type: COUNT-RATE\n",
      "             Conversion factor (data->brightness):  60.797431635711504\n",
      "\n",
      "\n",
      "-----  Computing sky values requested image extensions (detector chips):  -----\n",
      "\n",
      "   *   Image:   'ibtm7mlgq_flt.fits['SCI',1]'  --  SKY = 26.873253062977355 (brightness units)\n",
      "       Sky change (data units):\n",
      "      - EXT = 'SCI',1   delta(MDRIZSKY) = 0.442013   NEW MDRIZSKY = 0.442013\n",
      "   *   Image:   'ibtm7mldq_flt.fits['SCI',1]'  --  SKY = 27.834992124466687 (brightness units)\n",
      "       Sky change (data units):\n",
      "      - EXT = 'SCI',1   delta(MDRIZSKY) = 0.457832   NEW MDRIZSKY = 0.457832\n",
      "***** skymatch ended on 2020-02-18 20:34:37.662830\n",
      "TOTAL RUN TIME: 0:00:00.501292\n",
      "==== Processing Step Subtract Sky finished at 20:34:37.746 (18/02/2020)\n",
      "==== Processing Step  Separate Drizzle  started at  20:34:37.747 (18/02/2020)\n",
      "\n",
      "WCS Keywords\n",
      "\n",
      "Number of WCS axes: 2\n",
      "CTYPE : 'RA---TAN'  'DEC--TAN'  \n",
      "CRVAL : 189.16516162544605  62.312204596915144  \n",
      "CRPIX : 545.0  480.0  \n",
      "CD1_1 CD1_2  : 3.8331986182137346e-11  3.562500079470796e-05  \n",
      "CD2_1 CD2_2  : 3.562500079470796e-05  -3.8331986182137346e-11  \n",
      "NAXIS : 1090  960\n",
      "-Generating simple FITS output: ibtm7mlgq_single_sci.fits\n",
      "-Generating simple FITS output: ibtm7mldq_single_sci.fits\n",
      "Writing out image to disk: ibtm7mlgq_single_sci.fits\n",
      "Writing out image to disk: ibtm7mldq_single_sci.fits\n",
      "Writing out image to disk: ibtm7mlgq_single_wht.fits\n",
      "Writing out image to disk: ibtm7mldq_single_wht.fits\n",
      "==== Processing Step Separate Drizzle finished at 20:34:38.873 (18/02/2020)\n",
      "==== Processing Step  Create Median  started at  20:34:38.880 (18/02/2020)\n",
      "\n",
      "reference sky value for image 'ibtm7mlgq_flt.fits' is 310.7061400385294\n",
      "reference sky value for image 'ibtm7mldq_flt.fits' is 276.0423700549742\n",
      "Saving output median image to: 'final_med.fits'\n",
      "==== Processing Step Create Median finished at 20:34:39.413 (18/02/2020)\n",
      "==== Processing Step  Blot  started at  20:34:39.415 (18/02/2020)\n",
      "\n",
      "    Blot: creating blotted image:  ibtm7mlgq_flt.fits[sci,1]\n",
      "Using default C-based coordinate transformation...\n",
      "-Generating simple FITS output: ibtm7mlgq_sci1_blt.fits\n",
      "Writing out image to disk: ibtm7mlgq_sci1_blt.fits\n",
      "    Blot: creating blotted image:  ibtm7mldq_flt.fits[sci,1]\n",
      "Using default C-based coordinate transformation...\n",
      "-Generating simple FITS output: ibtm7mldq_sci1_blt.fits\n",
      "Writing out image to disk: ibtm7mldq_sci1_blt.fits\n",
      "==== Processing Step Blot finished at 20:34:40.569 (18/02/2020)\n",
      "==== Processing Step  Driz_CR  started at  20:34:40.571 (18/02/2020)\n",
      "\n",
      "Removed old cosmic ray mask file: 'ibtm7mlgq_sci1_crmask.fits'\n",
      "Creating output: ibtm7mlgq_sci1_crmask.fits\n",
      "Removed old cosmic ray mask file: 'ibtm7mldq_sci1_crmask.fits'\n",
      "Creating output: ibtm7mldq_sci1_crmask.fits\n",
      "==== Processing Step Driz_CR finished at 20:34:41.666 (18/02/2020)\n",
      "==== Processing Step  Final Drizzle  started at  20:34:41.683 (18/02/2020)\n",
      "\n",
      "WCS Keywords\n",
      "\n",
      "Number of WCS axes: 2\n",
      "CTYPE : 'RA---TAN'  'DEC--TAN'  \n",
      "CRVAL : 189.16516162544605  62.312204596915144  \n",
      "CRPIX : 545.0  480.0  \n",
      "CD1_1 CD1_2  : 3.8331986182137346e-11  3.562500079470796e-05  \n",
      "CD2_1 CD2_2  : 3.562500079470796e-05  -3.8331986182137346e-11  \n",
      "NAXIS : 1090  960\n",
      "-Generating simple FITS output: final_drz_sci.fits\n",
      "Writing out image to disk: final_drz_sci.fits\n",
      "Writing out image to disk: final_drz_wht.fits\n",
      "Writing out image to disk: final_drz_ctx.fits\n",
      "==== Processing Step Final Drizzle finished at 20:34:43.759 (18/02/2020)\n",
      "\n",
      "AstroDrizzle Version 3.1.4.dev28+gc5545233 is finished processing at 20:34:43.761 (18/02/2020).\n",
      "\n",
      "\n",
      "\n",
      "   --------------------          --------------------\n",
      "                   Step          Elapsed time\n",
      "   --------------------          --------------------\n",
      "\n",
      "         Initialization          0.5261 sec.\n",
      "            Static Mask          0.1221 sec.\n",
      "           Subtract Sky          0.6724 sec.\n",
      "       Separate Drizzle          1.1253 sec.\n",
      "          Create Median          0.5330 sec.\n",
      "                   Blot          1.1547 sec.\n",
      "                Driz_CR          1.0952 sec.\n",
      "          Final Drizzle          2.0761 sec.\n",
      "   ====================          ====================\n",
      "                  Total          7.3049 sec.\n",
      "\n",
      "Trailer file written to:  astrodrizzle.log\n"
     ]
    }
   ],
   "source": [
    "testfltfilelist = []\n",
    "for testfltfile in ['ibtm7mlgq_flt.fits', 'ibtm7mldq_flt.fits']:\n",
    "    testflturl = \"https://www.cadc-ccda.hia-iha.nrc-cnrc.gc.ca/data/pub/MAST/HST/product/\"+testfltfile\n",
    "    if not os.path.isfile(testfltfile):\n",
    "        urllib.request.urlretrieve(testflturl, testfltfile)\n",
    "    testfltfilelist.append(testfltfile)\n",
    "astrodrizzle.AstroDrizzle(input=testfltfilelist, build=False)"
   ]
  },
  {
   "cell_type": "code",
   "execution_count": 4,
   "metadata": {},
   "outputs": [],
   "source": [
    "w0 = wcsutil.HSTWCS('final_drz_sci.fits')"
   ]
  },
  {
   "cell_type": "code",
   "execution_count": 5,
   "metadata": {},
   "outputs": [],
   "source": [
    "w1 = wcsutil.HSTWCS('final_drz_sci.fits', ext=('', 1))"
   ]
  },
  {
   "cell_type": "code",
   "execution_count": 6,
   "metadata": {},
   "outputs": [
    {
     "name": "stdout",
     "output_type": "stream",
     "text": [
      "Reading header of ('',1) failed\n"
     ]
    }
   ],
   "source": [
    "from astropy.io import fits\n",
    "h = fits.open('final_drz_sci.fits')\n",
    "try :\n",
    "    h[('', 1)].header \n",
    "except :\n",
    "    print(\"Reading header of ('',1) failed\")"
   ]
  },
  {
   "cell_type": "code",
   "execution_count": 7,
   "metadata": {},
   "outputs": [
    {
     "data": {
      "text/plain": [
       "(None, 1)"
      ]
     },
     "execution_count": 7,
     "metadata": {},
     "output_type": "execute_result"
    }
   ],
   "source": [
    "h[0].header.get('EXTNAME'), h[0].header.get('EXTVER')"
   ]
  },
  {
   "cell_type": "markdown",
   "metadata": {},
   "source": [
    "##  Possible solution: set extver='' instead of None"
   ]
  },
  {
   "cell_type": "code",
   "execution_count": 9,
   "metadata": {},
   "outputs": [],
   "source": [
    "from drizzlepac import catalogs\n",
    "import shutil"
   ]
  },
  {
   "cell_type": "code",
   "execution_count": 35,
   "metadata": {},
   "outputs": [],
   "source": [
    "if os.path.isfile('corrected_final_drz_sci.fits'):\n",
    "    os.remove('corrected_final_drz_sci.fits')\n",
    "shutil.copy('final_drz_sci.fits', 'corrected_final_drz_sci.fits')\n",
    "hnew = fits.open('corrected_final_drz_sci.fits', mode='update')\n",
    "hnew[0].header.set('EXTNAME', 'PRIMARY')\n",
    "hnew.flush()\n",
    "wnew = wcsutil.HSTWCS('corrected_final_drz_sci.fits')"
   ]
  },
  {
   "cell_type": "code",
   "execution_count": 36,
   "metadata": {},
   "outputs": [
    {
     "name": "stdout",
     "output_type": "stream",
     "text": [
      "AstroDrizzle drz_sci.fits product:\n",
      "catalog init fails\n"
     ]
    }
   ],
   "source": [
    "print(\"AstroDrizzle drz_sci.fits product:\")\n",
    "try : \n",
    "    cat = catalogs.ImageCatalog(w0, 'final_drz_sci.fits')\n",
    "    print(\"catalog init succeeds\")\n",
    "except:\n",
    "    print(\"catalog init fails\")"
   ]
  },
  {
   "cell_type": "code",
   "execution_count": 39,
   "metadata": {},
   "outputs": [
    {
     "name": "stdout",
     "output_type": "stream",
     "text": [
      "AstroDrizzle drz_sci.fits product, with extname set to PRIMARY:\n",
      "catalog init succeeds\n"
     ]
    }
   ],
   "source": [
    "print(\"AstroDrizzle drz_sci.fits product, with extname set to {}:\".format(hnew[0].header.get('EXTNAME')))\n",
    "try : \n",
    "    cat = catalogs.ImageCatalog(wnew, 'corrected_final_drz_sci.fits')\n",
    "    print(\"catalog init succeeds\")\n",
    "except:\n",
    "    print(\"catalog init fails\")"
   ]
  },
  {
   "cell_type": "code",
   "execution_count": null,
   "metadata": {},
   "outputs": [],
   "source": []
  }
 ],
 "metadata": {
  "kernelspec": {
   "display_name": "Python 3",
   "language": "python",
   "name": "python3"
  },
  "language_info": {
   "codemirror_mode": {
    "name": "ipython",
    "version": 3
   },
   "file_extension": ".py",
   "mimetype": "text/x-python",
   "name": "python",
   "nbconvert_exporter": "python",
   "pygments_lexer": "ipython3",
   "version": "3.7.6"
  }
 },
 "nbformat": 4,
 "nbformat_minor": 4
}
